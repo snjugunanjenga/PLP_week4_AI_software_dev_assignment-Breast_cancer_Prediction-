{
 "cells": [
  {
   "cell_type": "markdown",
   "id": "18faf3d6",
   "metadata": {},
   "source": [
    "## Phase 1: Data Understanding & Preparation\n",
    "## Step 1: Dataset Exploration"
   ]
  },
  {
   "cell_type": "code",
   "execution_count": null,
   "id": "292ecb82",
   "metadata": {
    "vscode": {
     "languageId": "plaintext"
    }
   },
   "outputs": [],
   "source": [
    "import os\n",
    "import cv2\n",
    "import numpy as np\n",
    "import pandas as pd\n",
    "import matplotlib.pyplot as plt\n",
    "import seaborn as sns\n",
    "from pathlib import Path\n",
    "import tensorflow as tf\n",
    "from tensorflow.keras import layers, models\n",
    "from tensorflow.keras.preprocessing.image import ImageDataGenerator\n",
    "from sklearn.metrics import classification_report, confusion_matrix, roc_auc_score\n",
    "import warnings\n",
    "warnings.filterwarnings('ignore')\n",
    "\n",
    "# Set paths\n",
    "BASE_PATH = \"src/predictive_analytics/data/complete_set\"\n",
    "TRAIN_PATH = os.path.join(BASE_PATH, \"training_set\")\n",
    "TEST_PATH = os.path.join(BASE_PATH, \"testing_set\")\n",
    "\n",
    "# Explore dataset structure\n",
    "def explore_dataset():\n",
    "    benign_path = os.path.join(TRAIN_PATH, \"benign\")\n",
    "    malignant_path = os.path.join(TRAIN_PATH, \"malignant\")\n",
    "    \n",
    "    benign_count = len(os.listdir(benign_path))\n",
    "    malignant_count = len(os.listdir(malignant_path))\n",
    "    \n",
    "    print(f\"Training Images:\")\n",
    "    print(f\"Benign: {benign_count}\")\n",
    "    print(f\"Malignant: {malignant_count}\")\n",
    "    print(f\"Total: {benign_count + malignant_count}\")\n",
    "    print(f\"Class Balance: {benign_count/(benign_count + malignant_count):.2%} benign\")\n",
    "    \n",
    "    # Check image properties\n",
    "    sample_image = cv2.imread(os.path.join(benign_path, os.listdir(benign_path)[0]))\n",
    "    print(f\"\\nSample image shape: {sample_image.shape}\")\n",
    "    print(f\"Image dtype: {sample_image.dtype}\")\n",
    "    \n",
    "    return benign_count, malignant_count\n",
    "\n",
    "benign_count, malignant_count = explore_dataset()"
   ]
  },
  {
   "cell_type": "code",
   "execution_count": null,
   "metadata": {
    "vscode": {
     "languageId": "plaintext"
    }
   },
   "outputs": [],
   "source": []
  }
 ],
 "metadata": {
  "language_info": {
   "name": "python"
  }
 },
 "nbformat": 4,
 "nbformat_minor": 5
}
